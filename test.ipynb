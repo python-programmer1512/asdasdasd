{
  "nbformat": 4,
  "nbformat_minor": 0,
  "metadata": {
    "colab": {
      "provenance": [],
      "authorship_tag": "ABX9TyOlCenXqbF/uBoEtAaCV4yF",
      "include_colab_link": true
    },
    "kernelspec": {
      "name": "python3",
      "display_name": "Python 3"
    },
    "language_info": {
      "name": "python"
    },
    "accelerator": "GPU",
    "gpuClass": "standard"
  },
  "cells": [
    {
      "cell_type": "markdown",
      "metadata": {
        "id": "view-in-github",
        "colab_type": "text"
      },
      "source": [
        "<a href=\"https://colab.research.google.com/github/python-programmer1512/asdasdasd/blob/main/test.ipynb\" target=\"_parent\"><img src=\"https://colab.research.google.com/assets/colab-badge.svg\" alt=\"Open In Colab\"/></a>"
      ]
    },
    {
      "cell_type": "markdown",
      "source": [
        "* OpenCV : 컴퓨터 비전 관련 라이브러리\n",
        "* NumPy : 행렬, 벡터, 스칼라 같은 수데이터를 처리하고 연산하기 위한 라이브러리\n",
        "* Pandas : 테이블 형식의 데이터를 처리 => 엑센\n",
        "* mathplotlib : 이미지 시각화 라이브러리\n"
      ],
      "metadata": {
        "id": "-WKgOmzjHY4J"
      }
    },
    {
      "cell_type": "code",
      "source": [
        "import cv2# 컴퓨터 비전 라이브러리\n",
        "import numpy as np # \n",
        "import pandas as pd # 엑셀 데이터 처리\n",
        "import matplotlib as plt # 시각화 라이브러리"
      ],
      "metadata": {
        "id": "fNpDhTqzHNlF"
      },
      "execution_count": null,
      "outputs": []
    }
  ]
}